{
  "nbformat": 4,
  "nbformat_minor": 0,
  "metadata": {
    "colab": {
      "provenance": [],
      "authorship_tag": "ABX9TyMAhWqb5VHn7zwY1uXCvHmm",
      "include_colab_link": true
    },
    "kernelspec": {
      "name": "ir",
      "display_name": "R"
    },
    "language_info": {
      "name": "R"
    }
  },
  "cells": [
    {
      "cell_type": "markdown",
      "metadata": {
        "id": "view-in-github",
        "colab_type": "text"
      },
      "source": [
        "<a href=\"https://colab.research.google.com/github/RMoulla/Modelisation_Statistique/blob/main/Statistiques_Inf%C3%A9rentielles.ipynb\" target=\"_parent\"><img src=\"https://colab.research.google.com/assets/colab-badge.svg\" alt=\"Open In Colab\"/></a>"
      ]
    },
    {
      "cell_type": "markdown",
      "source": [
        "# Statistiques inférentielles"
      ],
      "metadata": {
        "id": "FkvjgEUpzjvz"
      }
    },
    {
      "cell_type": "code",
      "source": [
        "dataset <- read.csv(\"employés.csv\")\n",
        "head(dataset)"
      ],
      "metadata": {
        "colab": {
          "base_uri": "https://localhost:8080/",
          "height": 286
        },
        "id": "Wd5Pbomlzmzc",
        "outputId": "c7917f4e-b75c-42e1-ff3a-18b383e588f3"
      },
      "execution_count": 16,
      "outputs": [
        {
          "output_type": "display_data",
          "data": {
            "text/html": [
              "<table class=\"dataframe\">\n",
              "<caption>A data.frame: 6 × 6</caption>\n",
              "<thead>\n",
              "\t<tr><th></th><th scope=col>ID</th><th scope=col>Sexe</th><th scope=col>Âge</th><th scope=col>Niveau</th><th scope=col>Salaire</th><th scope=col>Ancienneté</th></tr>\n",
              "\t<tr><th></th><th scope=col>&lt;int&gt;</th><th scope=col>&lt;chr&gt;</th><th scope=col>&lt;int&gt;</th><th scope=col>&lt;chr&gt;</th><th scope=col>&lt;int&gt;</th><th scope=col>&lt;int&gt;</th></tr>\n",
              "</thead>\n",
              "<tbody>\n",
              "\t<tr><th scope=row>1</th><td>1</td><td>M</td><td>24</td><td>BEP  </td><td>1907</td><td>17</td></tr>\n",
              "\t<tr><th scope=row>2</th><td>2</td><td>F</td><td>58</td><td>Aucun</td><td>2201</td><td> 0</td></tr>\n",
              "\t<tr><th scope=row>3</th><td>3</td><td>M</td><td>28</td><td>Bac+2</td><td>1923</td><td>10</td></tr>\n",
              "\t<tr><th scope=row>4</th><td>4</td><td>M</td><td>42</td><td>Bac+2</td><td>1889</td><td>27</td></tr>\n",
              "\t<tr><th scope=row>5</th><td>5</td><td>M</td><td>30</td><td>Bac+2</td><td>2382</td><td>24</td></tr>\n",
              "\t<tr><th scope=row>6</th><td>6</td><td>F</td><td>39</td><td>Bac+2</td><td>1912</td><td>22</td></tr>\n",
              "</tbody>\n",
              "</table>\n"
            ],
            "text/markdown": "\nA data.frame: 6 × 6\n\n| <!--/--> | ID &lt;int&gt; | Sexe &lt;chr&gt; | Âge &lt;int&gt; | Niveau &lt;chr&gt; | Salaire &lt;int&gt; | Ancienneté &lt;int&gt; |\n|---|---|---|---|---|---|---|\n| 1 | 1 | M | 24 | BEP   | 1907 | 17 |\n| 2 | 2 | F | 58 | Aucun | 2201 |  0 |\n| 3 | 3 | M | 28 | Bac+2 | 1923 | 10 |\n| 4 | 4 | M | 42 | Bac+2 | 1889 | 27 |\n| 5 | 5 | M | 30 | Bac+2 | 2382 | 24 |\n| 6 | 6 | F | 39 | Bac+2 | 1912 | 22 |\n\n",
            "text/latex": "A data.frame: 6 × 6\n\\begin{tabular}{r|llllll}\n  & ID & Sexe & Âge & Niveau & Salaire & Ancienneté\\\\\n  & <int> & <chr> & <int> & <chr> & <int> & <int>\\\\\n\\hline\n\t1 & 1 & M & 24 & BEP   & 1907 & 17\\\\\n\t2 & 2 & F & 58 & Aucun & 2201 &  0\\\\\n\t3 & 3 & M & 28 & Bac+2 & 1923 & 10\\\\\n\t4 & 4 & M & 42 & Bac+2 & 1889 & 27\\\\\n\t5 & 5 & M & 30 & Bac+2 & 2382 & 24\\\\\n\t6 & 6 & F & 39 & Bac+2 & 1912 & 22\\\\\n\\end{tabular}\n",
            "text/plain": [
              "  ID Sexe Âge Niveau Salaire Ancienneté\n",
              "1 1  M    24  BEP    1907    17        \n",
              "2 2  F    58  Aucun  2201     0        \n",
              "3 3  M    28  Bac+2  1923    10        \n",
              "4 4  M    42  Bac+2  1889    27        \n",
              "5 5  M    30  Bac+2  2382    24        \n",
              "6 6  F    39  Bac+2  1912    22        "
            ]
          },
          "metadata": {}
        }
      ]
    },
    {
      "cell_type": "markdown",
      "source": [
        "## Intervalles de confiance pour la variable salaire"
      ],
      "metadata": {
        "id": "AXHRndi_z2M9"
      }
    },
    {
      "cell_type": "code",
      "source": [
        "\n",
        "# Calcul de la moyenne et de l'écart-type du salaire\n",
        "moyenne_salaire <- mean(dataset$Salaire)\n",
        "ecart_type_salaire <- sd(dataset$Salaire)\n",
        "\n",
        "# Taille de l'échantillon\n",
        "n <- length(dataset$Salaire)\n",
        "\n",
        "# Niveau de confiance (95%)\n",
        "niveau_confiance <- 0.95\n",
        "\n",
        "# Calcul de la valeur critique (t-score)\n",
        "alpha <- 1 - niveau_confiance\n",
        "\n",
        "\n",
        "\n",
        "# Marge d'erreur\n",
        "marge_erreur <- 1.96 * (ecart_type_salaire / sqrt(n))\n",
        "\n",
        "# Intervalle de confiance\n",
        "borne_inferieure <- moyenne_salaire - marge_erreur\n",
        "borne_superieure <- moyenne_salaire + marge_erreur\n",
        "\n",
        "# Affichage des résultats\n",
        "cat(\"Intervalle de confiance à\", niveau_confiance * 100, \"% pour le salaire :\\n\")\n",
        "cat(\"Borne inférieure :\", borne_inferieure, \"\\n\")\n",
        "cat(\"Borne supérieure :\", borne_superieure, \"\\n\")\n",
        "print(moyenne_salaire)"
      ],
      "metadata": {
        "colab": {
          "base_uri": "https://localhost:8080/"
        },
        "id": "3NjAT_gqz9N2",
        "outputId": "b2814e8c-3405-4eb1-b783-950d424cac1a"
      },
      "execution_count": 19,
      "outputs": [
        {
          "output_type": "stream",
          "name": "stdout",
          "text": [
            "Intervalle de confiance à 95 % pour le salaire :\n",
            "Borne inférieure : 1895.282 \n",
            "Borne supérieure : 2048.238 \n",
            "[1] 1971.76\n"
          ]
        }
      ]
    },
    {
      "cell_type": "code",
      "source": [
        "x <- rnorm(100000, 2000, 200)\n",
        "\n",
        "# Calcul de la moyenne et de l'écart-type de x\n",
        "moyenne_x <- mean(x)\n",
        "ecart_type_x <- sd(x)\n",
        "\n",
        "# Taille de l'échantillon\n",
        "n_x <- length(x)\n",
        "\n",
        "# Niveau de confiance (95%)\n",
        "niveau_confiance_x <- 0.95\n",
        "\n",
        "\n",
        "\n",
        "# Marge d'erreur\n",
        "marge_erreur_x <- 1.96* (ecart_type_x / sqrt(n_x))\n",
        "\n",
        "# Intervalle de confiance\n",
        "borne_inferieure_x <- moyenne_x - marge_erreur_x\n",
        "borne_superieure_x <- moyenne_x + marge_erreur_x\n",
        "\n",
        "# Affichage des résultats\n",
        "cat(\"Intervalle de confiance à\", niveau_confiance_x * 100, \"% pour x :\\n\")\n",
        "cat(\"Borne inférieure :\", borne_inferieure_x, \"\\n\")\n",
        "cat(\"Borne supérieure :\", borne_superieure_x, \"\\n\")\n"
      ],
      "metadata": {
        "colab": {
          "base_uri": "https://localhost:8080/"
        },
        "id": "Nd2lulRl52gv",
        "outputId": "de5f4f33-cf4e-4616-8fd0-6dc09d94ae3d"
      },
      "execution_count": 28,
      "outputs": [
        {
          "output_type": "stream",
          "name": "stdout",
          "text": [
            "Intervalle de confiance à 95 % pour x :\n",
            "Borne inférieure : 1998.859 \n",
            "Borne supérieure : 2001.335 \n"
          ]
        }
      ]
    },
    {
      "cell_type": "markdown",
      "source": [
        "## Test d'hypothèse salaire"
      ],
      "metadata": {
        "id": "yGA4w2t_18TW"
      }
    },
    {
      "cell_type": "code",
      "source": [
        "# Test d'hypothèse : salaire moyen = 2000\n",
        "\n",
        "# Hypothèse nulle (H0) : le salaire moyen est égal à 2000\n",
        "# Hypothèse alternative (H1) : le salaire moyen est différent de 2000\n",
        "\n",
        "# Test t\n",
        "t_test <- t.test(dataset$Salaire, mu = 2000)\n",
        "\n",
        "# Affichage des résultats du test\n",
        "print(t_test)\n",
        "\n",
        "# Interprétation des résultats\n",
        "# Si la p-valeur est inférieure au seuil de signification (alpha, généralement 0.05),\n",
        "# on rejette l'hypothèse nulle.  Cela signifie que le salaire moyen est significativement différent de 2000.\n",
        "# Sinon, on ne rejette pas l'hypothèse nulle.\n",
        "alpha <- 0.05\n",
        "if (t_test$p.value < alpha) {\n",
        "  cat(\"On rejette l'hypothèse nulle. Le salaire moyen est significativement différent de 2000.\\n\")\n",
        "} else {\n",
        "  cat(\"On ne rejette pas l'hypothèse nulle. Il n'y a pas de preuve significative que le salaire moyen soit différent de 2000.\\n\")\n",
        "}\n"
      ],
      "metadata": {
        "colab": {
          "base_uri": "https://localhost:8080/"
        },
        "id": "PsgCHvib1cAN",
        "outputId": "6bd2b69a-075d-4190-ab1a-721ba83b6b0b"
      },
      "execution_count": 34,
      "outputs": [
        {
          "output_type": "stream",
          "name": "stdout",
          "text": [
            "\n",
            "\tOne Sample t-test\n",
            "\n",
            "data:  dataset$Salaire\n",
            "t = -0.72374, df = 49, p-value = 0.4727\n",
            "alternative hypothesis: true mean is not equal to 2000\n",
            "95 percent confidence interval:\n",
            " 1893.348 2050.172\n",
            "sample estimates:\n",
            "mean of x \n",
            "  1971.76 \n",
            "\n",
            "On ne rejette pas l'hypothèse nulle. Il n'y a pas de preuve significative que le salaire moyen soit différent de 2000.\n"
          ]
        }
      ]
    }
  ]
}